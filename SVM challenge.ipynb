{
 "cells": [
  {
   "cell_type": "code",
   "execution_count": 27,
   "metadata": {},
   "outputs": [],
   "source": [
    "import numpy as np\n",
    "import pandas as pd\n",
    "import scipy\n",
    "import matplotlib.pyplot as plt\n",
    "import seaborn as sns\n",
    "%matplotlib inline\n",
    "from sklearn.svm import SVC\n",
    "from sklearn.feature_selection import SelectKBest\n",
    "from sklearn.model_selection import cross_val_score\n",
    "from sklearn.feature_selection import chi2\n",
    "from sklearn.feature_selection import SelectPercentile, f_classif\n",
    "from sklearn.model_selection import train_test_split\n",
    "\n"
   ]
  },
  {
   "cell_type": "code",
   "execution_count": 28,
   "metadata": {},
   "outputs": [
    {
     "name": "stdout",
     "output_type": "stream",
     "text": [
      "                                         title  rating  calories  protein  \\\n",
      "0              Lentil, Apple, and Turkey Wrap    2.500     426.0     30.0   \n",
      "1  Boudin Blanc Terrine with Red Onion Confit    4.375     403.0     18.0   \n",
      "2                Potato and Fennel Soup Hodge    3.750     165.0      6.0   \n",
      "3             Mahi-Mahi in Tomato Olive Sauce    5.000       NaN      NaN   \n",
      "4                    Spinach Noodle Casserole    3.125     547.0     20.0   \n",
      "\n",
      "    fat  sodium  #cakeweek  #wasteless  22-minute meals  3-ingredient recipes  \\\n",
      "0   7.0   559.0          0           0                0                     0   \n",
      "1  23.0  1439.0          0           0                0                     0   \n",
      "2   7.0   165.0          0           0                0                     0   \n",
      "3   NaN     NaN          0           0                0                     0   \n",
      "4  32.0   452.0          0           0                0                     0   \n",
      "\n",
      "    ...    yellow squash  yogurt  yonkers  yuca  zucchini  cookbooks  \\\n",
      "0   ...                0       0        0     0         0          0   \n",
      "1   ...                0       0        0     0         0          0   \n",
      "2   ...                0       0        0     0         0          0   \n",
      "3   ...                0       0        0     0         0          0   \n",
      "4   ...                0       0        0     0         0          0   \n",
      "\n",
      "   leftovers  snack  snack week  turkey  \n",
      "0          0      0           0       1  \n",
      "1          0      0           0       0  \n",
      "2          0      0           0       0  \n",
      "3          0      0           0       0  \n",
      "4          0      0           0       0  \n",
      "\n",
      "[5 rows x 680 columns]\n"
     ]
    }
   ],
   "source": [
    "df = pd.read_csv('Epicurious.csv')\n",
    "print(df.head())"
   ]
  },
  {
   "cell_type": "code",
   "execution_count": 29,
   "metadata": {},
   "outputs": [
    {
     "name": "stdout",
     "output_type": "stream",
     "text": [
      "5.0\n",
      "0.0\n"
     ]
    }
   ],
   "source": [
    "print(df['rating'].max())\n",
    "print(df['rating'].min())"
   ]
  },
  {
   "cell_type": "code",
   "execution_count": 30,
   "metadata": {},
   "outputs": [],
   "source": [
    "df['Positive_rating'] = np.where(df['rating'] > 3, 1, 0)\n",
    "X = df.drop(['rating', 'Positive_rating', 'title', 'calories', 'protein', 'fat', 'sodium'], 1).sample(frac=0.3, replace=True, random_state=1)\n",
    "Y = df['Positive_rating'].sample(frac=0.3, replace=True, random_state=1)\n",
    "\n",
    "#print(X.head())\n",
    "#print(Y.head())"
   ]
  },
  {
   "cell_type": "markdown",
   "metadata": {},
   "source": [
    "#### Using SelectKBest to select top 30 features/variables"
   ]
  },
  {
   "cell_type": "code",
   "execution_count": 31,
   "metadata": {},
   "outputs": [
    {
     "name": "stdout",
     "output_type": "stream",
     "text": [
      "(6016, 30)\n"
     ]
    }
   ],
   "source": [
    "X_skb = SelectKBest(chi2, k=30).fit_transform(X, Y)\n",
    "print(X_skb.shape)"
   ]
  },
  {
   "cell_type": "code",
   "execution_count": 32,
   "metadata": {},
   "outputs": [],
   "source": [
    "# Define the training and test sizes.\n",
    "X_train, X_test, Y_train, Y_test = train_test_split(X_skb, Y, test_size=.2, random_state=20)\n",
    "\n"
   ]
  },
  {
   "cell_type": "code",
   "execution_count": 33,
   "metadata": {},
   "outputs": [
    {
     "data": {
      "text/plain": [
       "SVC(C=1.0, cache_size=200, class_weight=None, coef0=0.0,\n",
       "  decision_function_shape='ovr', degree=3, gamma='auto', kernel='linear',\n",
       "  max_iter=-1, probability=False, random_state=None, shrinking=True,\n",
       "  tol=0.001, verbose=False)"
      ]
     },
     "execution_count": 33,
     "metadata": {},
     "output_type": "execute_result"
    }
   ],
   "source": [
    "svm = SVC(kernel = 'linear')\n",
    "svm.fit(X_train, Y_train)"
   ]
  },
  {
   "cell_type": "code",
   "execution_count": 34,
   "metadata": {},
   "outputs": [
    {
     "data": {
      "text/plain": [
       "array([0.86885246, 0.89256198, 0.89256198, 0.875     , 0.875     ,\n",
       "       0.875     , 0.89166667, 0.89166667, 0.88333333, 0.875     ])"
      ]
     },
     "execution_count": 34,
     "metadata": {},
     "output_type": "execute_result"
    }
   ],
   "source": [
    "cross_val_score(svm, X_test, Y_test, cv=10)"
   ]
  }
 ],
 "metadata": {
  "kernelspec": {
   "display_name": "Python 3",
   "language": "python",
   "name": "python3"
  },
  "language_info": {
   "codemirror_mode": {
    "name": "ipython",
    "version": 3
   },
   "file_extension": ".py",
   "mimetype": "text/x-python",
   "name": "python",
   "nbconvert_exporter": "python",
   "pygments_lexer": "ipython3",
   "version": "3.7.0"
  }
 },
 "nbformat": 4,
 "nbformat_minor": 2
}
